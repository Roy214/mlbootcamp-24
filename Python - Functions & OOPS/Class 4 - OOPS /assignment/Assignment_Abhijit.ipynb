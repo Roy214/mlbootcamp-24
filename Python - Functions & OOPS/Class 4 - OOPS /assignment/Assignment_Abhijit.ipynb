{
 "cells": [
  {
   "cell_type": "code",
   "execution_count": 78,
   "id": "1516495f-f0be-4692-9141-591d41fd5c7e",
   "metadata": {
    "tags": []
   },
   "outputs": [],
   "source": [
    "class Calculator:\n",
    "    def __init__(self,num1,num2):\n",
    "        self.num1 = num1\n",
    "        self.num2 = num2\n",
    "\n",
    "#Implement a function named add that takes no arguments and returns the sum of num1 and num2.\n",
    "    #@staticmethod\n",
    "    def add(self):\n",
    "        return (self.num1 + self.num2)\n",
    "\n",
    "#Implement a function named subtract that takes no arguments and returns the result of subtracting num2 from num1.\n",
    "    def subtract(self):\n",
    "        return (self.num1 - self.num2)\n",
    "\n",
    "#Implement a function named multiply that takes a single argument factor and returns the product of num1 and factor.\n",
    "    def multiply(self,factor):\n",
    "        self.factor = factor\n",
    "        return (self.num1 * self.factor)\n",
    "    \n",
    "#Implement a function named divide that takes a single argument divisor and returns the result of dividing num1 by divisor. \n",
    "#If divisor is zero, print an error message and return None.\n",
    "    def divide(self,divisor):\n",
    "        self.divisor = divisor\n",
    "        if divisor == 0:\n",
    "            print(\"Divisor can't be zero.\")\n",
    "            return none          \n",
    "        else:\n",
    "            return (self.num1 / self.divisor)"
   ]
  },
  {
   "cell_type": "code",
   "execution_count": 69,
   "id": "bb54a5ff-6355-46d7-8ef3-4878e9e71a14",
   "metadata": {
    "tags": []
   },
   "outputs": [
    {
     "name": "stdout",
     "output_type": "stream",
     "text": [
      "Addition Result: 15\n"
     ]
    }
   ],
   "source": [
    "calculator = Calculator(10, 5)\n",
    "# Testing the add method\n",
    "print(\"Addition Result:\", calculator.add())"
   ]
  },
  {
   "cell_type": "code",
   "execution_count": 70,
   "id": "03a78254-b865-4ca4-b2b5-0599c7a8c04a",
   "metadata": {
    "tags": []
   },
   "outputs": [
    {
     "name": "stdout",
     "output_type": "stream",
     "text": [
      "Subtraction Result: 5\n"
     ]
    }
   ],
   "source": [
    "# Testing the subtract method\n",
    "print(\"Subtraction Result:\", calculator.subtract())"
   ]
  },
  {
   "cell_type": "code",
   "execution_count": 54,
   "id": "70d53b22-be56-498c-8ba9-5317838f7891",
   "metadata": {
    "tags": []
   },
   "outputs": [
    {
     "name": "stdout",
     "output_type": "stream",
     "text": [
      "Multiplication Result: 30\n"
     ]
    }
   ],
   "source": [
    "# Testing the multiply method\n",
    "print(\"Multiplication Result:\", calculator.multiply(3))"
   ]
  },
  {
   "cell_type": "code",
   "execution_count": 77,
   "id": "869329c2-f618-4f17-852a-94d86f0aa55e",
   "metadata": {
    "tags": []
   },
   "outputs": [
    {
     "name": "stdout",
     "output_type": "stream",
     "text": [
      "Division Result: 5.0\n",
      "Divisor can't be zero.\n"
     ]
    },
    {
     "ename": "NameError",
     "evalue": "name 'none' is not defined",
     "output_type": "error",
     "traceback": [
      "\u001b[0;31m---------------------------------------------------------------------------\u001b[0m",
      "\u001b[0;31mNameError\u001b[0m                                 Traceback (most recent call last)",
      "Cell \u001b[0;32mIn[77], line 3\u001b[0m\n\u001b[1;32m      1\u001b[0m \u001b[38;5;66;03m# Testing the divide method\u001b[39;00m\n\u001b[1;32m      2\u001b[0m \u001b[38;5;28mprint\u001b[39m(\u001b[38;5;124m\"\u001b[39m\u001b[38;5;124mDivision Result:\u001b[39m\u001b[38;5;124m\"\u001b[39m, calculator\u001b[38;5;241m.\u001b[39mdivide(\u001b[38;5;241m2\u001b[39m))  \n\u001b[0;32m----> 3\u001b[0m \u001b[38;5;28mprint\u001b[39m(\u001b[38;5;124m\"\u001b[39m\u001b[38;5;124mDivision Result:\u001b[39m\u001b[38;5;124m\"\u001b[39m, calculator\u001b[38;5;241m.\u001b[39mdivide(\u001b[38;5;241m0\u001b[39m))\n",
      "Cell \u001b[0;32mIn[68], line 28\u001b[0m, in \u001b[0;36mCalculator.divide\u001b[0;34m(self, divisor)\u001b[0m\n\u001b[1;32m     26\u001b[0m \u001b[38;5;28;01melse\u001b[39;00m:\n\u001b[1;32m     27\u001b[0m     \u001b[38;5;28mprint\u001b[39m(\u001b[38;5;124m\"\u001b[39m\u001b[38;5;124mDivisor can\u001b[39m\u001b[38;5;124m'\u001b[39m\u001b[38;5;124mt be zero.\u001b[39m\u001b[38;5;124m\"\u001b[39m)\n\u001b[0;32m---> 28\u001b[0m     \u001b[38;5;28;01mreturn\u001b[39;00m none\n",
      "\u001b[0;31mNameError\u001b[0m: name 'none' is not defined"
     ]
    }
   ],
   "source": [
    "# Testing the divide method\n",
    "print(\"Division Result:\", calculator.divide(2))  \n",
    "print(\"Division Result:\", calculator.divide(0)) "
   ]
  },
  {
   "cell_type": "code",
   "execution_count": null,
   "id": "94bfdb50-baf2-458e-a91f-c397c2474dc1",
   "metadata": {},
   "outputs": [],
   "source": []
  }
 ],
 "metadata": {
  "kernelspec": {
   "display_name": "Python 3 (ipykernel)",
   "language": "python",
   "name": "python3"
  },
  "language_info": {
   "codemirror_mode": {
    "name": "ipython",
    "version": 3
   },
   "file_extension": ".py",
   "mimetype": "text/x-python",
   "name": "python",
   "nbconvert_exporter": "python",
   "pygments_lexer": "ipython3",
   "version": "3.11.5"
  }
 },
 "nbformat": 4,
 "nbformat_minor": 5
}
