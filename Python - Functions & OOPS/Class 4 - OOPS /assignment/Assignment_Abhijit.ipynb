{
 "cells": [
  {
   "cell_type": "code",
   "execution_count": 26,
   "id": "1516495f-f0be-4692-9141-591d41fd5c7e",
   "metadata": {
    "tags": []
   },
   "outputs": [],
   "source": [
    "class Calculator:\n",
    "    def __init__(self,num1,num2):\n",
    "        self.num1 = num1\n",
    "        self.num2 = num2\n",
    "\n",
    "#Implement a function named add that takes no arguments and returns the sum of num1 and num2.\n",
    "    #@staticmethod\n",
    "    def add(self):\n",
    "        return (self.num1 + self.num2)\n",
    "\n",
    "#Implement a function named subtract that takes no arguments and returns the result of subtracting num2 from num1.\n",
    "    def subtract(self):\n",
    "        return (self.num1 - self.num2)\n",
    "\n",
    "#Implement a function named multiply that takes a single argument factor and returns the product of num1 and factor.\n",
    "    def multiply(self,factor):\n",
    "        self.factor = factor\n",
    "        return (self.num1 * self.factor)\n",
    "    \n",
    "#Implement a function named divide that takes a single argument divisor and returns the result of dividing num1 by divisor. \n",
    "#If divisor is zero, print an error message and return None.\n",
    "    def divide(self,divisor):\n",
    "        self.divisor = divisor\n",
    "        if divisor == 0:\n",
    "            print(\"Divisor can't be zero.\")\n",
    "            return \"None\"          \n",
    "        else:\n",
    "            return (self.num1 / self.divisor)"
   ]
  },
  {
   "cell_type": "code",
   "execution_count": 27,
   "id": "bb54a5ff-6355-46d7-8ef3-4878e9e71a14",
   "metadata": {
    "tags": []
   },
   "outputs": [
    {
     "name": "stdout",
     "output_type": "stream",
     "text": [
      "Addition Result: 15\n"
     ]
    }
   ],
   "source": [
    "calculator = Calculator(10, 5)\n",
    "# Testing the add method\n",
    "print(\"Addition Result:\", calculator.add())"
   ]
  },
  {
   "cell_type": "code",
   "execution_count": 28,
   "id": "03a78254-b865-4ca4-b2b5-0599c7a8c04a",
   "metadata": {
    "tags": []
   },
   "outputs": [
    {
     "name": "stdout",
     "output_type": "stream",
     "text": [
      "Subtraction Result: 5\n"
     ]
    }
   ],
   "source": [
    "# Testing the subtract method\n",
    "print(\"Subtraction Result:\", calculator.subtract())"
   ]
  },
  {
   "cell_type": "code",
   "execution_count": 29,
   "id": "70d53b22-be56-498c-8ba9-5317838f7891",
   "metadata": {
    "tags": []
   },
   "outputs": [
    {
     "name": "stdout",
     "output_type": "stream",
     "text": [
      "Multiplication Result: 30\n"
     ]
    }
   ],
   "source": [
    "# Testing the multiply method\n",
    "print(\"Multiplication Result:\", calculator.multiply(3))"
   ]
  },
  {
   "cell_type": "code",
   "execution_count": 30,
   "id": "869329c2-f618-4f17-852a-94d86f0aa55e",
   "metadata": {
    "tags": []
   },
   "outputs": [
    {
     "name": "stdout",
     "output_type": "stream",
     "text": [
      "Division Result: 5.0\n",
      "Divisor can't be zero.\n",
      "Division Result: None\n"
     ]
    }
   ],
   "source": [
    "# Testing the divide method\n",
    "print(\"Division Result:\", calculator.divide(2))  \n",
    "print(\"Division Result:\", calculator.divide(0)) "
   ]
  },
  {
   "cell_type": "code",
   "execution_count": null,
   "id": "94bfdb50-baf2-458e-a91f-c397c2474dc1",
   "metadata": {},
   "outputs": [],
   "source": []
  },
  {
   "cell_type": "code",
   "execution_count": 31,
   "id": "58b476e2-e529-49c9-9781-ed9a69693a7e",
   "metadata": {
    "tags": []
   },
   "outputs": [],
   "source": [
    "class BankAccount:\n",
    "    balance = 0\n",
    "    def __init__(self,account_number,balance):\n",
    "        self.account_number = account_number\n",
    "        self.__balance = balance\n",
    "\n",
    "#Implement a function named deposit that takes a single argument amount and adds it to the balance.\n",
    "\n",
    "    def deposit(self,amount):\n",
    "        self.amount = amount\n",
    "        self.__balance = self.__balance + self.amount\n",
    "        #print(\"Rs\",self.amount,\"credited to your account ****\"+self.account_number[-1])\n",
    "        return (self.__balance)\n",
    "        \n",
    "#Implement a function named withdraw that takes a single argument amount and subtracts it from the balance. \n",
    "#Ensure that the withdrawal amount does not exceed the current balance. If it does, print an error message and do not perform the withdrawal.\n",
    "    \n",
    "    def withdraw(self, amount):\n",
    "        self.amount = amount\n",
    "        #print(self.amount)\n",
    "        #print(self.__balance)\n",
    "        if self.__balance < self.amount:\n",
    "            print(\"Insufficient balance\")\n",
    "        else:\n",
    "            self.__balance = self.__balance - self.amount\n",
    "            return(self.__balance)\n",
    "    \n",
    "#Implement a function named get_balance that returns the current balance.\n",
    "    def get_balance(self):\n",
    "        #print(\"Netbalance:\",self.balance)\n",
    "        return (self.__balance)\n",
    "        "
   ]
  },
  {
   "cell_type": "code",
   "execution_count": 32,
   "id": "a5b1a363-387e-47a0-a6b0-002f19ec0514",
   "metadata": {
    "tags": []
   },
   "outputs": [
    {
     "name": "stdout",
     "output_type": "stream",
     "text": [
      "Balance after deposit: 1500\n"
     ]
    }
   ],
   "source": [
    "# Creating an instance of the BankAccount class\n",
    "account = BankAccount(\"123456\", 1000)\n",
    "\n",
    "# Testing the deposit method\n",
    "account.deposit(500)\n",
    "print(\"Balance after deposit:\", account.get_balance())  # Output: 1500"
   ]
  },
  {
   "cell_type": "code",
   "execution_count": 33,
   "id": "110114bd-e627-465c-aa14-897c19c88ed2",
   "metadata": {
    "tags": []
   },
   "outputs": [
    {
     "name": "stdout",
     "output_type": "stream",
     "text": [
      "Balance after withdrawal: 1300\n",
      "Insufficient balance\n"
     ]
    }
   ],
   "source": [
    "# Testing the withdraw method\n",
    "account.withdraw(200)\n",
    "print(\"Balance after withdrawal:\", account.get_balance())  # Output: 1300\n",
    "account.withdraw(1500)  # Output: Error: Insufficient balance"
   ]
  },
  {
   "cell_type": "code",
   "execution_count": null,
   "id": "0013f392-d015-41e5-ae43-d118b48a614a",
   "metadata": {},
   "outputs": [],
   "source": []
  },
  {
   "cell_type": "code",
   "execution_count": null,
   "id": "1097b710-684e-4924-83df-9ce67a40aa5e",
   "metadata": {},
   "outputs": [],
   "source": []
  },
  {
   "cell_type": "code",
   "execution_count": null,
   "id": "e4156d28-9940-415b-90ec-8c3063f01306",
   "metadata": {},
   "outputs": [],
   "source": []
  }
 ],
 "metadata": {
  "kernelspec": {
   "display_name": "Python 3 (ipykernel)",
   "language": "python",
   "name": "python3"
  },
  "language_info": {
   "codemirror_mode": {
    "name": "ipython",
    "version": 3
   },
   "file_extension": ".py",
   "mimetype": "text/x-python",
   "name": "python",
   "nbconvert_exporter": "python",
   "pygments_lexer": "ipython3",
   "version": "3.11.5"
  }
 },
 "nbformat": 4,
 "nbformat_minor": 5
}
